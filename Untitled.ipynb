{
 "cells": [
  {
   "cell_type": "code",
   "execution_count": 1,
   "id": "239df7b4",
   "metadata": {},
   "outputs": [
    {
     "data": {
      "text/plain": [
       "4"
      ]
     },
     "execution_count": 1,
     "metadata": {},
     "output_type": "execute_result"
    }
   ],
   "source": [
    "2 + 2 "
   ]
  },
  {
   "cell_type": "code",
   "execution_count": 2,
   "id": "49476df4",
   "metadata": {},
   "outputs": [
    {
     "data": {
      "text/plain": [
       "-33.0"
      ]
     },
     "execution_count": 2,
     "metadata": {},
     "output_type": "execute_result"
    }
   ],
   "source": [
    "12*(34 - 56)/8"
   ]
  },
  {
   "cell_type": "code",
   "execution_count": 3,
   "id": "0dd28848",
   "metadata": {},
   "outputs": [
    {
     "data": {
      "text/plain": [
       "3"
      ]
     },
     "execution_count": 3,
     "metadata": {},
     "output_type": "execute_result"
    }
   ],
   "source": [
    "10//3"
   ]
  },
  {
   "cell_type": "code",
   "execution_count": 4,
   "id": "59d437c0",
   "metadata": {},
   "outputs": [
    {
     "data": {
      "text/plain": [
       "1"
      ]
     },
     "execution_count": 4,
     "metadata": {},
     "output_type": "execute_result"
    }
   ],
   "source": [
    "10%3"
   ]
  },
  {
   "cell_type": "code",
   "execution_count": 5,
   "id": "4a4d84c3",
   "metadata": {},
   "outputs": [
    {
     "data": {
      "text/plain": [
       "8"
      ]
     },
     "execution_count": 5,
     "metadata": {},
     "output_type": "execute_result"
    }
   ],
   "source": [
    "2**3"
   ]
  },
  {
   "cell_type": "code",
   "execution_count": 6,
   "id": "9d8685c5",
   "metadata": {},
   "outputs": [
    {
     "ename": "NameError",
     "evalue": "name 'x' is not defined",
     "output_type": "error",
     "traceback": [
      "\u001b[1;31m---------------------------------------------------------------------------\u001b[0m",
      "\u001b[1;31mNameError\u001b[0m                                 Traceback (most recent call last)",
      "\u001b[1;32m~\\AppData\\Local\\Temp\\ipykernel_20456\\2151830887.py\u001b[0m in \u001b[0;36m<module>\u001b[1;34m\u001b[0m\n\u001b[1;32m----> 1\u001b[1;33m \u001b[0mx\u001b[0m \u001b[1;33m+=\u001b[0m \u001b[1;36m1\u001b[0m\u001b[1;33m\u001b[0m\u001b[1;33m\u001b[0m\u001b[0m\n\u001b[0m",
      "\u001b[1;31mNameError\u001b[0m: name 'x' is not defined"
     ]
    }
   ],
   "source": [
    "x += 1 "
   ]
  },
  {
   "cell_type": "code",
   "execution_count": 7,
   "id": "96168c88",
   "metadata": {},
   "outputs": [],
   "source": [
    "x = 1"
   ]
  },
  {
   "cell_type": "code",
   "execution_count": 8,
   "id": "79e5d179",
   "metadata": {},
   "outputs": [],
   "source": [
    "x += 2"
   ]
  },
  {
   "cell_type": "code",
   "execution_count": 9,
   "id": "598a4f39",
   "metadata": {},
   "outputs": [
    {
     "data": {
      "text/plain": [
       "3"
      ]
     },
     "execution_count": 9,
     "metadata": {},
     "output_type": "execute_result"
    }
   ],
   "source": [
    "x"
   ]
  },
  {
   "cell_type": "code",
   "execution_count": 10,
   "id": "63cadaea",
   "metadata": {},
   "outputs": [
    {
     "data": {
      "text/plain": [
       "True"
      ]
     },
     "execution_count": 10,
     "metadata": {},
     "output_type": "execute_result"
    }
   ],
   "source": [
    "10 == 10"
   ]
  },
  {
   "cell_type": "code",
   "execution_count": 11,
   "id": "03858e25",
   "metadata": {},
   "outputs": [
    {
     "data": {
      "text/plain": [
       "1"
      ]
     },
     "execution_count": 11,
     "metadata": {},
     "output_type": "execute_result"
    }
   ],
   "source": [
    "100%3"
   ]
  },
  {
   "cell_type": "code",
   "execution_count": 12,
   "id": "c6d249a3",
   "metadata": {},
   "outputs": [
    {
     "data": {
      "text/plain": [
       "33"
      ]
     },
     "execution_count": 12,
     "metadata": {},
     "output_type": "execute_result"
    }
   ],
   "source": [
    "100//3"
   ]
  },
  {
   "cell_type": "code",
   "execution_count": 13,
   "id": "ad691888",
   "metadata": {},
   "outputs": [
    {
     "data": {
      "text/plain": [
       "8192"
      ]
     },
     "execution_count": 13,
     "metadata": {},
     "output_type": "execute_result"
    }
   ],
   "source": [
    "2**13"
   ]
  },
  {
   "cell_type": "code",
   "execution_count": 16,
   "id": "18b7d7bf",
   "metadata": {},
   "outputs": [
    {
     "data": {
      "text/plain": [
       "'B'"
      ]
     },
     "execution_count": 16,
     "metadata": {},
     "output_type": "execute_result"
    }
   ],
   "source": [
    "my_string = \"Bulochka\"\n",
    "my_string[0]"
   ]
  },
  {
   "cell_type": "code",
   "execution_count": 17,
   "id": "65f59184",
   "metadata": {},
   "outputs": [
    {
     "data": {
      "text/plain": [
       "'a'"
      ]
     },
     "execution_count": 17,
     "metadata": {},
     "output_type": "execute_result"
    }
   ],
   "source": [
    "my_list = [\"b\", \"u\", \"l\", \"o\", \"c\", \"h\", \"k\", \"a\"]\n",
    "my_list[-1]"
   ]
  },
  {
   "cell_type": "code",
   "execution_count": 18,
   "id": "8163e438",
   "metadata": {},
   "outputs": [],
   "source": [
    "my_dict = {\n",
    "    1: \"b\",\n",
    "    2: \"u\",\n",
    "    3: \"l\",\n",
    "    4: \"o\",\n",
    "    5: \"c\",\n",
    "    6: \"h\",\n",
    "    7: \"k\",\n",
    "    8: \"a\"\n",
    "}"
   ]
  },
  {
   "cell_type": "code",
   "execution_count": 24,
   "id": "297dc838",
   "metadata": {},
   "outputs": [],
   "source": [
    "my_set = {\"a\", \"k\", \"h\", \"c\", \"o\", \"l\", \"u\", \"b\"}"
   ]
  },
  {
   "cell_type": "code",
   "execution_count": 20,
   "id": "ee8f7bae",
   "metadata": {},
   "outputs": [
    {
     "data": {
      "text/plain": [
       "'BULOCHKA'"
      ]
     },
     "execution_count": 20,
     "metadata": {},
     "output_type": "execute_result"
    }
   ],
   "source": [
    "my_upper_str = my_string.upper()\n",
    "my_upper_str"
   ]
  },
  {
   "cell_type": "code",
   "execution_count": 21,
   "id": "0b67c92f",
   "metadata": {},
   "outputs": [
    {
     "data": {
      "text/plain": [
       "['b', 'u', 'l', 'o', 'c', 'h', 'k', 'a', ' с корицей']"
      ]
     },
     "execution_count": 21,
     "metadata": {},
     "output_type": "execute_result"
    }
   ],
   "source": [
    "my_list.append(\" с корицей\")\n",
    "my_list"
   ]
  },
  {
   "cell_type": "code",
   "execution_count": 22,
   "id": "5d3bcdc5",
   "metadata": {},
   "outputs": [
    {
     "data": {
      "text/plain": [
       "dict_keys([1, 2, 3, 4, 5, 6, 7, 8])"
      ]
     },
     "execution_count": 22,
     "metadata": {},
     "output_type": "execute_result"
    }
   ],
   "source": [
    "my_dict.keys()"
   ]
  },
  {
   "cell_type": "code",
   "execution_count": 26,
   "id": "0339b255",
   "metadata": {},
   "outputs": [
    {
     "data": {
      "text/plain": [
       "{'a', 'b', 'c', 'h', 'k', 'l', 'o', 'u', 'йецирок с '}"
      ]
     },
     "execution_count": 26,
     "metadata": {},
     "output_type": "execute_result"
    }
   ],
   "source": [
    "my_set.add(\"йецирок с \")\n",
    "my_set"
   ]
  },
  {
   "cell_type": "code",
   "execution_count": 27,
   "id": "a954b492",
   "metadata": {},
   "outputs": [],
   "source": [
    "my_car = {\n",
    "    ('mersedes', 's'): {\n",
    "        \"цена\": 5000000,\n",
    "        \"двигатель\": 8,\n",
    "        \"разгон до 100\": 5.2,\n",
    "        \"привод\": \"ЗадНий\",\n",
    "        \"выпуск\": 2000,\n",
    "        \"страна\": \"Germany\"\n",
    "    }\n",
    "}"
   ]
  },
  {
   "cell_type": "code",
   "execution_count": 28,
   "id": "d44c0437",
   "metadata": {},
   "outputs": [
    {
     "data": {
      "text/plain": [
       "[{('mersedes', 's'): {'цена': 5000000,\n",
       "   'двигатель': 8,\n",
       "   'разгон до 100': 5.2,\n",
       "   'привод': 'ЗадНий',\n",
       "   'выпуск': 2000,\n",
       "   'страна': 'Germany'}}]"
      ]
     },
     "execution_count": 28,
     "metadata": {},
     "output_type": "execute_result"
    }
   ],
   "source": [
    "katalog = []\n",
    "katalog.append(my_car)\n",
    "katalog"
   ]
  },
  {
   "cell_type": "code",
   "execution_count": 29,
   "id": "479207a4",
   "metadata": {},
   "outputs": [],
   "source": [
    "my_car_two = {\n",
    "    ('жигуль', 'b'): {\n",
    "        \"цена\": 40000,\n",
    "        \"двигатель\": 8,\n",
    "        \"разгон до 100\": 100,\n",
    "        \"привод\": \"ЗадНий\",\n",
    "        \"выпуск\": 2000,\n",
    "        \"страна\": \"Russia\"\n",
    "    }\n",
    "}\n",
    "my_car_three = {\n",
    "    ('Lada Granta', 'c'): {\n",
    "        \"цена\": 3000,\n",
    "        \"двигатель\": 8,\n",
    "        \"разгон до 100\": 100,\n",
    "        \"привод\": \"ЗадНий\",\n",
    "        \"выпуск\": 2000,\n",
    "        \"страна\": \"Russia\"\n",
    "    }\n",
    "}\n",
    "my_car_four = {\n",
    "    ('Lada Westa', 'b'): {\n",
    "        \"цена\": 20000,\n",
    "        \"двигатель\": 8,\n",
    "        \"разгон до 100\": 99,\n",
    "        \"привод\": \"передний\",\n",
    "        \"выпуск\": 2000,\n",
    "        \"страна\": \"Russia\"\n",
    "    }\n",
    "}\n",
    "my_car_five = {\n",
    "    ('Трактор деда', 's'): {\n",
    "        \"цена\": 300,\n",
    "        \"двигатель\": 8,\n",
    "        \"разгон до 100\": 1,\n",
    "        \"привод\": \"полный\",\n",
    "        \"выпуск\": 1917,\n",
    "        \"страна\": \"Russia\"\n",
    "    }\n",
    "}\n",
    "my_car_six = {\n",
    "    ('Foltsvagen Polo', 'g'): {\n",
    "        \"цена\": 10,\n",
    "        \"двигатель\": 8,\n",
    "        \"разгон до 100\": 240,\n",
    "        \"привод\": \"передний\",\n",
    "        \"выпуск\": 2007,\n",
    "        \"страна\": \"Germany\"\n",
    "    }\n",
    "}\n",
    "my_car_seven = {\n",
    "    ('bmv', 'd'): {\n",
    "        \"цена\": 5000000,\n",
    "        \"двигатель\": 8,\n",
    "        \"разгон до 100\": 6,\n",
    "        \"привод\": \"ЗадНий\",\n",
    "        \"выпуск\": 1995,\n",
    "        \"страна\": \"Germany\"\n",
    "    }\n",
    "}\n",
    "my_car_eight = {\n",
    "    ('mazda', 'a'): {\n",
    "        \"цена\": 60000,\n",
    "        \"двигатель\": 8,\n",
    "        \"разгон до 100\": 8,\n",
    "        \"привод\": \"полный\",\n",
    "        \"выпуск\": 2003,\n",
    "        \"страна\": \"Germany\"\n",
    "    }\n",
    "}\n",
    "my_car_nine = {\n",
    "    ('mitsubishi', 'sss'): {\n",
    "        \"цена\": 100000000,\n",
    "        \"двигатель\": 8,\n",
    "        \"разгон до 100\": 2,\n",
    "        \"привод\": \"передний\",\n",
    "        \"выпуск\": 2009,\n",
    "        \"страна\": \"Japan\"\n",
    "    }\n",
    "}\n",
    "my_car_ten = {\n",
    "    ('subaru', 'ssss'): {\n",
    "        \"цена\": 100000000000,\n",
    "        \"двигатель\": 8,\n",
    "        \"разгон до 100\": 1.5,\n",
    "        \"привод\": \"передний\",\n",
    "        \"выпуск\": 1999,\n",
    "        \"страна\": \"Japan\"\n",
    "    }\n",
    "}"
   ]
  },
  {
   "cell_type": "code",
   "execution_count": 30,
   "id": "fa7ec9b6",
   "metadata": {},
   "outputs": [
    {
     "data": {
      "text/plain": [
       "[{('mersedes', 's'): {'цена': 5000000,\n",
       "   'двигатель': 8,\n",
       "   'разгон до 100': 5.2,\n",
       "   'привод': 'ЗадНий',\n",
       "   'выпуск': 2000,\n",
       "   'страна': 'Germany'}},\n",
       " {('жигуль', 'b'): {'цена': 40000,\n",
       "   'двигатель': 8,\n",
       "   'разгон до 100': 100,\n",
       "   'привод': 'ЗадНий',\n",
       "   'выпуск': 2000,\n",
       "   'страна': 'Russia'}},\n",
       " {('Lada Granta', 'c'): {'цена': 3000,\n",
       "   'двигатель': 8,\n",
       "   'разгон до 100': 100,\n",
       "   'привод': 'ЗадНий',\n",
       "   'выпуск': 2000,\n",
       "   'страна': 'Russia'}},\n",
       " {('Lada Westa', 'b'): {'цена': 20000,\n",
       "   'двигатель': 8,\n",
       "   'разгон до 100': 99,\n",
       "   'привод': 'передний',\n",
       "   'выпуск': 2000,\n",
       "   'страна': 'Russia'}},\n",
       " {('Трактор деда', 's'): {'цена': 300,\n",
       "   'двигатель': 8,\n",
       "   'разгон до 100': 1,\n",
       "   'привод': 'полный',\n",
       "   'выпуск': 1917,\n",
       "   'страна': 'Russia'}},\n",
       " {('Foltsvagen Polo', 'g'): {'цена': 10,\n",
       "   'двигатель': 8,\n",
       "   'разгон до 100': 240,\n",
       "   'привод': 'передний',\n",
       "   'выпуск': 2007,\n",
       "   'страна': 'Germany'}},\n",
       " {('bmv', 'd'): {'цена': 5000000,\n",
       "   'двигатель': 8,\n",
       "   'разгон до 100': 6,\n",
       "   'привод': 'ЗадНий',\n",
       "   'выпуск': 1995,\n",
       "   'страна': 'Germany'}},\n",
       " {('mazda', 'a'): {'цена': 60000,\n",
       "   'двигатель': 8,\n",
       "   'разгон до 100': 8,\n",
       "   'привод': 'полный',\n",
       "   'выпуск': 2003,\n",
       "   'страна': 'Germany'}},\n",
       " {('mitsubishi', 'sss'): {'цена': 100000000,\n",
       "   'двигатель': 8,\n",
       "   'разгон до 100': 2,\n",
       "   'привод': 'передний',\n",
       "   'выпуск': 2009,\n",
       "   'страна': 'Japan'}},\n",
       " {('subaru', 'ssss'): {'цена': 100000000000,\n",
       "   'двигатель': 8,\n",
       "   'разгон до 100': 1.5,\n",
       "   'привод': 'передний',\n",
       "   'выпуск': 1999,\n",
       "   'страна': 'Japan'}}]"
      ]
     },
     "execution_count": 30,
     "metadata": {},
     "output_type": "execute_result"
    }
   ],
   "source": [
    "katalog.extend([\n",
    "    my_car_two, \n",
    "    my_car_three, \n",
    "    my_car_four, \n",
    "    my_car_five, \n",
    "    my_car_six, \n",
    "    my_car_seven, \n",
    "    my_car_eight, \n",
    "    my_car_nine, \n",
    "    my_car_ten\n",
    "])\n",
    "katalog"
   ]
  },
  {
   "cell_type": "code",
   "execution_count": 31,
   "id": "2514afbf",
   "metadata": {},
   "outputs": [
    {
     "data": {
      "text/plain": [
       "{('mersedes', 's'): {'цена': 5000000,\n",
       "  'двигатель': 8,\n",
       "  'разгон до 100': 5.2,\n",
       "  'привод': 'ЗадНий',\n",
       "  'выпуск': 2000,\n",
       "  'страна': 'Germany',\n",
       "  'рассрочка': True}}"
      ]
     },
     "execution_count": 31,
     "metadata": {},
     "output_type": "execute_result"
    }
   ],
   "source": [
    "katalog[0]['mersedes', 's']['рассрочка'] = True\n",
    "katalog[0]"
   ]
  },
  {
   "cell_type": "code",
   "execution_count": 114,
   "id": "a7417984",
   "metadata": {},
   "outputs": [],
   "source": [
    "def car_filter(katalog_car, params, kriteries):\n",
    "    cars = []\n",
    "    for car in katalog:\n",
    "        need_car = True\n",
    "        count_param = 0\n",
    "        for key in car.keys():\n",
    "            for param in params:\n",
    "                for kritery in kriteries:\n",
    "                    if car[key][param] == kritery:\n",
    "                        count_param += 1\n",
    "            if count_param == len(params):      \n",
    "                cars.append(key)\n",
    "    return cars"
   ]
  },
  {
   "cell_type": "code",
   "execution_count": 117,
   "id": "2e97bb17",
   "metadata": {},
   "outputs": [
    {
     "data": {
      "text/plain": [
       "[('mersedes', 's'), ('жигуль', 'b'), ('Lada Granta', 'c'), ('Lada Westa', 'b')]"
      ]
     },
     "execution_count": 117,
     "metadata": {},
     "output_type": "execute_result"
    }
   ],
   "source": [
    "car_filter(katalog, [\"выпуск\", \"привод\"], [2000, 1917, \"передний\", 'ЗадНий'])"
   ]
  },
  {
   "cell_type": "code",
   "execution_count": null,
   "id": "7eaa2161",
   "metadata": {},
   "outputs": [],
   "source": []
  }
 ],
 "metadata": {
  "kernelspec": {
   "display_name": "Python 3 (ipykernel)",
   "language": "python",
   "name": "python3"
  },
  "language_info": {
   "codemirror_mode": {
    "name": "ipython",
    "version": 3
   },
   "file_extension": ".py",
   "mimetype": "text/x-python",
   "name": "python",
   "nbconvert_exporter": "python",
   "pygments_lexer": "ipython3",
   "version": "3.9.13"
  }
 },
 "nbformat": 4,
 "nbformat_minor": 5
}
